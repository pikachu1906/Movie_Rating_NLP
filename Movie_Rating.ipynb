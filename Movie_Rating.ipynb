{
  "nbformat": 4,
  "nbformat_minor": 0,
  "metadata": {
    "colab": {
      "provenance": []
    },
    "kernelspec": {
      "name": "python3",
      "display_name": "Python 3"
    },
    "language_info": {
      "name": "python"
    }
  },
  "cells": [
    {
      "cell_type": "code",
      "metadata": {
        "colab": {
          "base_uri": "https://localhost:8080/"
        },
        "id": "Uv3MyZ0UvjeI",
        "outputId": "eca9a345-12b4-4eaa-bce7-ca9834e43a88"
      },
      "source": [
        "from google.colab import drive\n",
        "drive.mount('/gdrive')\n"
      ],
      "execution_count": null,
      "outputs": [
        {
          "output_type": "stream",
          "text": [
            "Mounted at /gdrive\n"
          ],
          "name": "stdout"
        }
      ]
    },
    {
      "cell_type": "code",
      "metadata": {
        "colab": {
          "base_uri": "https://localhost:8080/"
        },
        "id": "lUx5sr9d8hv5",
        "outputId": "3dcecaa6-08d4-4246-94df-1920de3ae254"
      },
      "source": [
        "import nltk\n",
        "nltk.download(\"stopwords\")"
      ],
      "execution_count": null,
      "outputs": [
        {
          "output_type": "stream",
          "text": [
            "[nltk_data] Downloading package stopwords to /root/nltk_data...\n",
            "[nltk_data]   Unzipping corpora/stopwords.zip.\n"
          ],
          "name": "stdout"
        },
        {
          "output_type": "execute_result",
          "data": {
            "text/plain": [
              "True"
            ]
          },
          "metadata": {
            "tags": []
          },
          "execution_count": 2
        }
      ]
    },
    {
      "cell_type": "code",
      "metadata": {
        "id": "If7gwtQXw-pf"
      },
      "source": [
        "from nltk.tokenize import RegexpTokenizer\n",
        "from nltk.stem.porter import PorterStemmer \n",
        "from nltk.corpus import stopwords\n"
      ],
      "execution_count": null,
      "outputs": []
    },
    {
      "cell_type": "code",
      "metadata": {
        "id": "mqdRuwDk6U1e"
      },
      "source": [
        "tok = RegexpTokenizer(r'\\w+')\n",
        "en = set(stopwords.words('english'))\n",
        "ps = PorterStemmer()"
      ],
      "execution_count": null,
      "outputs": []
    },
    {
      "cell_type": "code",
      "metadata": {
        "id": "w2OHnDIY6uqv"
      },
      "source": [
        "def sreview(review):\n",
        "  review = review.lower()\n",
        "  review = review.replace(\"<br />br\",\" \")\n",
        "\n",
        "  tokens = tok.tokenize(review)\n",
        "  newtok = [token for token in tokens if token not in en]\n",
        "  stemtok = [ps.stem(token) for token in newtok]\n",
        "  cleanedre = ' '.join(stemtok)\n",
        "\n",
        "  return cleanedre"
      ],
      "execution_count": null,
      "outputs": []
    },
    {
      "cell_type": "code",
      "metadata": {
        "id": "8zm1t-wJ_u4f"
      },
      "source": [
        "from sklearn.feature_extraction.text import CountVectorizer"
      ],
      "execution_count": null,
      "outputs": []
    },
    {
      "cell_type": "code",
      "metadata": {
        "id": "LqYxgpTB4Hpz"
      },
      "source": [
        "cv = CountVectorizer()\n",
        "xvec = cv.fit_transform(xclean)\n"
      ],
      "execution_count": null,
      "outputs": []
    },
    {
      "cell_type": "code",
      "metadata": {
        "id": "42wnTVJQ4WNX"
      },
      "source": [
        "xtvec = cv.tranform(xtclean).toarray()"
      ],
      "execution_count": null,
      "outputs": []
    },
    {
      "cell_type": "code",
      "metadata": {
        "id": "GQUJVtXw5LI5"
      },
      "source": [
        "from sklearn.naive_bayes import MultinomialNB, BernoulliNB"
      ],
      "execution_count": null,
      "outputs": []
    },
    {
      "cell_type": "code",
      "metadata": {
        "id": "pVBhKAvZ5VDr"
      },
      "source": [
        "mb = MultinomialNB()"
      ],
      "execution_count": null,
      "outputs": []
    },
    {
      "cell_type": "code",
      "metadata": {
        "id": "JrmEBmBM5mpH"
      },
      "source": [
        "mb.fit(xvec,y)"
      ],
      "execution_count": null,
      "outputs": []
    },
    {
      "cell_type": "code",
      "metadata": {
        "id": "GbuYO5uj5p2Q"
      },
      "source": [
        "mb.predict(xtvec)"
      ],
      "execution_count": null,
      "outputs": []
    },
    {
      "cell_type": "code",
      "metadata": {
        "id": "nb0_E23sVb18"
      },
      "source": [
        "mb.predict.proba(xtvec)"
      ],
      "execution_count": null,
      "outputs": []
    },
    {
      "cell_type": "code",
      "metadata": {
        "id": "b8EMR0Z5WHmd"
      },
      "source": [
        "from sklearn.metrics import confusion_matrix"
      ],
      "execution_count": null,
      "outputs": []
    }
  ]
}